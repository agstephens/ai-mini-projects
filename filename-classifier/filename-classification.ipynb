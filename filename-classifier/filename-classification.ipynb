{
 "cells": [
  {
   "cell_type": "markdown",
   "id": "5fd5c5ee-dacc-4975-81f2-c3ff2396e184",
   "metadata": {},
   "source": [
    "# File name classification example - using basic Machine Learning tools\n",
    "\n",
    "This Notebook demonstrates how a simple dataset can be transformed into a form that basic Machine Learning (ML) tools can work with. \n",
    "\n",
    "The dataset is created by the Python class `FilenameFactory`, which outputs file names that are classified as either \"good\" (1: they match the expected structure) or \"bad\" (0: they do not match the expected structure).\n",
    "\n",
    "This example uses a range of different classifiers (*simple* ML models that predict a *class* (rather than a *value*)) from the [scikit-learn](https://scikit-learn.org/) library (also known as `sklearn`). These classifiers require the input data to be in a numeric form (typically as a `numpy.array` or `pandas.DataFrame`). \n",
    "\n",
    "The role of this Notebook is to demonstrate:\n",
    "1. Generation of a synthetic dataset.\n",
    "2. Transformation of an example (text-based) dataset into a form ready for use by an ML model.\n",
    "3. Splitting the dataset into *training* and *test* sets.\n",
    "4. Running a selection of different ML classifiers.\n",
    "5. Selecting the *best* classifier based on (compute) time taken and accuracy score.\n",
    "6. Evaluating the best classifier on the *test* dataset.\n",
    "7. Making predictions on new data, where the *class* of the records are not known."
   ]
  },
  {
   "cell_type": "markdown",
   "id": "9a4e9412-d0cd-41bf-9bda-719afd069a06",
   "metadata": {},
   "source": [
    "## Future plans for this project\n",
    "\n",
    "Here is a possible to-do list for this project:\n",
    "- [ ] Refactor to use a proper `sklearn` pipeline.\n",
    "- [ ] I have added in a 5th type of error file (with reversed \"c1\" value) - this has improved the performance of the SGD classifier because it now has extra training data. This is a good example of how you can examine the model and training to improve things.\n",
    "- [ ] Expand into using a Deep Learning model that is trained on a wide range of file names. Then allow transfer learning techniques to *tune* versions of the model for specific projects.\n"
   ]
  },
  {
   "cell_type": "markdown",
   "id": "a298c7e9-ce58-421e-8c37-dff51d5e4daf",
   "metadata": {},
   "source": [
    "## Library imports\n",
    "\n",
    "The initial imports include some Python standard library packages and some data science favourites (`pandas`, `numpy` and `matplotlib`)."
   ]
  },
  {
   "cell_type": "code",
   "execution_count": 12,
   "id": "34ae4c87-25d5-49d8-b290-16b2debcccc8",
   "metadata": {},
   "outputs": [],
   "source": [
    "%matplotlib inline\n",
    "# Imports\n",
    "import time\n",
    "import os\n",
    "import string\n",
    "import random\n",
    "random.seed(4)\n",
    "\n",
    "import pandas as pd\n",
    "import numpy as np\n",
    "import matplotlib.pyplot as plt\n",
    "from matplotlib.colors import ListedColormap"
   ]
  },
  {
   "cell_type": "markdown",
   "id": "dd065124-774d-4c28-83ee-7c540872002b",
   "metadata": {},
   "source": [
    "## Creating some synthetic data\n",
    "\n",
    "The `FilenameFactory` class can typically be used to return a *good* or *bad* file, as follows:\n",
    "\n",
    "```python\n",
    "ff = FilenameFactory()\n",
    "good_file = ff.create()\n",
    "bad_file = ff.create(bad=True)\n",
    "```\n",
    "\n",
    "A good file name follows these rules:\n",
    "1. Has 4 components separated by underscores.\n",
    "2. Has a valid extension, one of `[\".nc\", \".csv\"]`.\n",
    "3. The last component should be a year between 2000 and 2030.\n"
   ]
  },
  {
   "cell_type": "code",
   "execution_count": 13,
   "id": "a3254b2e-262f-47c6-927d-947b8b883462",
   "metadata": {},
   "outputs": [],
   "source": [
    "class FilenameFactory:\n",
    "    \"\"\"\n",
    "    Class to generate good and bad files.\n",
    "    \"\"\"\n",
    "\n",
    "    c1 = [\"tas\", \"tasmax\", \"tasmin\", \"pr\", \"slhf\"]\n",
    "    c2 = [\"ukcp\", \"cmip\", \"era\"]\n",
    "    c3 = [\"5km\", \"25km\", \"60km\", \"100km\"]\n",
    "    c4 = [str(year) for year in range(2000, 2031)]\n",
    "    ext = [\".nc\", \".csv\"]\n",
    "\n",
    "    def __init__(self):\n",
    "        self.n_features = -1\n",
    "\n",
    "    def create(self, bad=False, **kwargs):\n",
    "        \"\"\"\n",
    "        Returns a good or bad file name.\n",
    "        \"\"\"\n",
    "        d = {x: kwargs.get(x, random.choice(getattr(self, x))) for x in \n",
    "                        [\"c1\", \"c2\", \"c3\", \"c4\", \"ext\"]}\n",
    "\n",
    "        if bad:\n",
    "            err_type = random.choice(range(0, 5))\n",
    "            if err_type == 0: # some components missing\n",
    "                parts = [d.get(x) for x in [\"c1\", \"c2\", \"c3\", \"c4\"]]\n",
    "                return \"_\".join(random.sample(parts, random.choice([1, 2, 3]))) + d[\"ext\"]\n",
    "            elif err_type == 1: # no extension\n",
    "                d[\"ext\"] = \"\"\n",
    "            elif err_type == 2: # invalid extension\n",
    "                d[\"ext\"] = \".\" + \"\".join(random.sample(string.ascii_lowercase, 3))\n",
    "            elif err_type == 3: # text instead of year\n",
    "                d[\"c4\"] = \"\".join(random.sample(string.ascii_lowercase, 4))\n",
    "            elif err_type == 4: # reversed \"c1\" value (so not known in vocab)\n",
    "                d[\"c1\"] = d[\"c1\"][::-1]\n",
    "\n",
    "        return \"{c1}_{c2}_{c3}_{c4}{ext}\".format(**d)\n",
    "\n",
    "    def create_batch(self, n=10000, n_bad=0):\n",
    "        \"\"\"\n",
    "        Returns `n` file names, of which `n_bad` will be bad.\n",
    "        \n",
    "        Returns a tuple of the two lists split as: ([<good_files>], [<bad_files>]).\n",
    "        \"\"\"\n",
    "        bad_files = [self.create(bad=True) for i in range(n_bad)]\n",
    "        good_files = [self.create() for i in range((n - n_bad))]\n",
    "\n",
    "        print(f\"Good: {len(good_files)}, Bad: {len(bad_files)}, All: {len(good_files) + len(bad_files)}\")\n",
    "        return good_files, bad_files\n",
    "\n",
    "    def _filelist_to_df(self, file_list):\n",
    "        \"\"\"\n",
    "        Takes in a file list and returns a valid `pandas.DataFrame`.\n",
    "        Note: all missing features (columns) or extensions will default to \"\".\n",
    "        \"\"\"\n",
    "        # Create a DUMMY record temporarily, just in case a single file does not\n",
    "        # have enough features. Cope with this by using preset `self.n_features`\n",
    "        USED_DUMMY = False\n",
    "        if len(file_list) == 1:\n",
    "            dummy = \"_\".join([\"x\" for i in range(self.n_features)]) + \".ext\"\n",
    "            file_list.insert(0, dummy)\n",
    "            USED_DUMMY = True\n",
    "\n",
    "        # Create a data frame from the file list\n",
    "        df = pd.DataFrame(file_list, columns=[\"filename\"])\n",
    "        self.n_features = max([max([s.count(\"_\") for s in file_list]) + 1, self.n_features])\n",
    "\n",
    "        # Create a temporary column removing the extension - which is then split into feature columns\n",
    "        df[\"fname_no_ext\"] = df[\"filename\"].apply(lambda fname: os.path.splitext(fname)[0])\n",
    "        df[[f\"feature_{i}\" for i in range(1, self.n_features + 1)]] = df[\"fname_no_ext\"].str.split(\"_\", expand=True)\n",
    "\n",
    "        # Add the extension as a column\n",
    "        df[\"ext\"] = df[\"filename\"].apply(lambda fname: os.path.splitext(fname)[-1].lstrip(\".\"))\n",
    "\n",
    "        # If DUMMY was used, then drop the first record (the dummy)\n",
    "        if USED_DUMMY:\n",
    "            df = df.iloc[1:]\n",
    "\n",
    "        # Drop superfluous columns and fill all empty fields with \"\", then reindex and return\n",
    "        df = df.drop(columns=[\"filename\", \"fname_no_ext\"])\n",
    "        df = df.fillna(value=\"\").reset_index(drop=True)\n",
    "        return df\n",
    "\n",
    "    def filename_to_df(self, filename):\n",
    "        \"\"\"\n",
    "        Convert a single file name to a `pandas.DataFrame`.\n",
    "        \"\"\"\n",
    "        return self._filelist_to_df([filename])\n",
    "        \n",
    "    def get_ai_ready_batch(self, n=10000, n_bad=0):\n",
    "        \"\"\"\n",
    "        Generate `n` file names (of which `n_bad` are bad), and convert them to\n",
    "        a `pandas.DataFrame`.\n",
    "\n",
    "        The columns are: [\"feature_1\", \"feature_2\", ..., \"feature_n\", \"ext\", \"is_good\"]\n",
    "        \"\"\"\n",
    "        good_files, bad_files = self.create_batch(n=n, n_bad=n_bad)\n",
    "\n",
    "        # Now convert to a Pandas DataFrame\n",
    "        df = self._filelist_to_df(good_files + bad_files)\n",
    "\n",
    "        df[\"is_good\"] = 1\n",
    "        df.loc[len(good_files):, [\"is_good\"]] = 0\n",
    "        df = df.sort_values(by=\"feature_1\").reset_index(drop=True)\n",
    "        return df"
   ]
  },
  {
   "cell_type": "markdown",
   "id": "2befb994-2606-438c-a97f-d6eb83ac8893",
   "metadata": {},
   "source": [
    "Let's create an instance of the factory and create some example file names..."
   ]
  },
  {
   "cell_type": "code",
   "execution_count": 14,
   "id": "abfe1fcd-45c3-4bcb-bd47-1f5cf4fa977b",
   "metadata": {},
   "outputs": [],
   "source": [
    "ff = FilenameFactory()"
   ]
  },
  {
   "cell_type": "code",
   "execution_count": 15,
   "id": "3da2d7c3-cad6-4cd7-8592-278bed1f5e8e",
   "metadata": {},
   "outputs": [
    {
     "name": "stdout",
     "output_type": "stream",
     "text": [
      "Good: 9980, Bad: 20, All: 10000\n"
     ]
    }
   ],
   "source": [
    "good_files, bad_files = ff.create_batch(n_bad=20)"
   ]
  },
  {
   "cell_type": "markdown",
   "id": "7856d436-746d-43c5-ab6b-1d2eb54c49be",
   "metadata": {},
   "source": [
    "Let's load up a batch of 10 files, with 2 of them being *bad*, in the AI-ready format:"
   ]
  },
  {
   "cell_type": "code",
   "execution_count": 16,
   "id": "dc16d89d-5fa5-42fb-8dc5-3461506bd407",
   "metadata": {},
   "outputs": [
    {
     "name": "stdout",
     "output_type": "stream",
     "text": [
      "Good: 8, Bad: 2, All: 10\n"
     ]
    },
    {
     "data": {
      "text/html": [
       "<div>\n",
       "<style scoped>\n",
       "    .dataframe tbody tr th:only-of-type {\n",
       "        vertical-align: middle;\n",
       "    }\n",
       "\n",
       "    .dataframe tbody tr th {\n",
       "        vertical-align: top;\n",
       "    }\n",
       "\n",
       "    .dataframe thead th {\n",
       "        text-align: right;\n",
       "    }\n",
       "</style>\n",
       "<table border=\"1\" class=\"dataframe\">\n",
       "  <thead>\n",
       "    <tr style=\"text-align: right;\">\n",
       "      <th></th>\n",
       "      <th>feature_1</th>\n",
       "      <th>feature_2</th>\n",
       "      <th>feature_3</th>\n",
       "      <th>feature_4</th>\n",
       "      <th>ext</th>\n",
       "      <th>is_good</th>\n",
       "    </tr>\n",
       "  </thead>\n",
       "  <tbody>\n",
       "    <tr>\n",
       "      <th>0</th>\n",
       "      <td>pr</td>\n",
       "      <td>ukcp</td>\n",
       "      <td>25km</td>\n",
       "      <td>2026</td>\n",
       "      <td>csv</td>\n",
       "      <td>1</td>\n",
       "    </tr>\n",
       "    <tr>\n",
       "      <th>1</th>\n",
       "      <td>pr</td>\n",
       "      <td>era</td>\n",
       "      <td>5km</td>\n",
       "      <td>2020</td>\n",
       "      <td>nc</td>\n",
       "      <td>1</td>\n",
       "    </tr>\n",
       "    <tr>\n",
       "      <th>2</th>\n",
       "      <td>pr</td>\n",
       "      <td>cmip</td>\n",
       "      <td>100km</td>\n",
       "      <td>2009</td>\n",
       "      <td>nc</td>\n",
       "      <td>1</td>\n",
       "    </tr>\n",
       "    <tr>\n",
       "      <th>3</th>\n",
       "      <td>pr</td>\n",
       "      <td>ukcp</td>\n",
       "      <td>25km</td>\n",
       "      <td>2013</td>\n",
       "      <td>nc</td>\n",
       "      <td>1</td>\n",
       "    </tr>\n",
       "    <tr>\n",
       "      <th>4</th>\n",
       "      <td>pr</td>\n",
       "      <td>era</td>\n",
       "      <td>100km</td>\n",
       "      <td>2019</td>\n",
       "      <td>nc</td>\n",
       "      <td>1</td>\n",
       "    </tr>\n",
       "  </tbody>\n",
       "</table>\n",
       "</div>"
      ],
      "text/plain": [
       "  feature_1 feature_2 feature_3 feature_4  ext  is_good\n",
       "0        pr      ukcp      25km      2026  csv        1\n",
       "1        pr       era       5km      2020   nc        1\n",
       "2        pr      cmip     100km      2009   nc        1\n",
       "3        pr      ukcp      25km      2013   nc        1\n",
       "4        pr       era     100km      2019   nc        1"
      ]
     },
     "execution_count": 16,
     "metadata": {},
     "output_type": "execute_result"
    }
   ],
   "source": [
    "df = ff.get_ai_ready_batch(n=10, n_bad=2)\n",
    "df.head()"
   ]
  },
  {
   "cell_type": "markdown",
   "id": "9aea7c8f-ba33-4612-9682-938de2efed96",
   "metadata": {},
   "source": [
    "If we want to create a `DataFrame` directly from a file name that we provide, we can achieve that with the following. This will be useful later when we want to test our Machine Learning models on *unseen* data. In this case, the `DataFrame` does not have the `is_good` column, and it will be fed into a trained model to *predict* whether the file is good or not."
   ]
  },
  {
   "cell_type": "code",
   "execution_count": 17,
   "id": "397464be-5181-4b2d-b0dd-165e8f2aba80",
   "metadata": {},
   "outputs": [
    {
     "data": {
      "text/html": [
       "<div>\n",
       "<style scoped>\n",
       "    .dataframe tbody tr th:only-of-type {\n",
       "        vertical-align: middle;\n",
       "    }\n",
       "\n",
       "    .dataframe tbody tr th {\n",
       "        vertical-align: top;\n",
       "    }\n",
       "\n",
       "    .dataframe thead th {\n",
       "        text-align: right;\n",
       "    }\n",
       "</style>\n",
       "<table border=\"1\" class=\"dataframe\">\n",
       "  <thead>\n",
       "    <tr style=\"text-align: right;\">\n",
       "      <th></th>\n",
       "      <th>feature_1</th>\n",
       "      <th>feature_2</th>\n",
       "      <th>feature_3</th>\n",
       "      <th>feature_4</th>\n",
       "      <th>ext</th>\n",
       "    </tr>\n",
       "  </thead>\n",
       "  <tbody>\n",
       "    <tr>\n",
       "      <th>0</th>\n",
       "      <td>hello</td>\n",
       "      <td>or</td>\n",
       "      <td>other</td>\n",
       "      <td></td>\n",
       "      <td>nc</td>\n",
       "    </tr>\n",
       "  </tbody>\n",
       "</table>\n",
       "</div>"
      ],
      "text/plain": [
       "  feature_1 feature_2 feature_3 feature_4 ext\n",
       "0     hello        or     other            nc"
      ]
     },
     "execution_count": 17,
     "metadata": {},
     "output_type": "execute_result"
    }
   ],
   "source": [
    "one_rec_df = ff.filename_to_df(\"hello_or_other.nc\")\n",
    "one_rec_df"
   ]
  },
  {
   "cell_type": "markdown",
   "id": "06ff2b93-114a-4ae6-84c8-f36dda33d30d",
   "metadata": {},
   "source": [
    "And let's see what some **bad files** look like:"
   ]
  },
  {
   "cell_type": "code",
   "execution_count": 18,
   "id": "ccf54463-b977-476b-aceb-05c3f86e4c4c",
   "metadata": {},
   "outputs": [
    {
     "name": "stdout",
     "output_type": "stream",
     "text": [
      "tasmax_cmip_5km_ecam.csv\n",
      "slhf_cmip_5km_2007.yfd\n",
      "tasmin_ukcp_5km_2026.gfj\n",
      "tasmin_era_60km_qhfp.csv\n",
      "nimsat_ukcp_60km_2000.csv\n",
      "nimsat_era_25km_2013.csv\n",
      "tasmin_cmip_100km_2005.izb\n",
      "sat_ukcp_100km_2020.csv\n",
      "slhf_era_100km_2022\n",
      "tasmax_ukcp_100km_ifln.nc\n"
     ]
    }
   ],
   "source": [
    "for i in range(10):\n",
    "    print(bad_files[i])"
   ]
  },
  {
   "cell_type": "markdown",
   "id": "a4089db7-ea9f-46d1-bd20-d351f61d7a1d",
   "metadata": {},
   "source": [
    "Now, let's extract an AI-ready `pandas.DataFrame` ready for some ML models. We'll create a total of 20,000 file names (20% of which will be *bad*)."
   ]
  },
  {
   "cell_type": "code",
   "execution_count": 19,
   "id": "6f7ca3f0-08c4-4d08-a2ca-22d3537d4a39",
   "metadata": {},
   "outputs": [
    {
     "name": "stdout",
     "output_type": "stream",
     "text": [
      "Good: 16000, Bad: 4000, All: 20000\n"
     ]
    },
    {
     "data": {
      "text/html": [
       "<div>\n",
       "<style scoped>\n",
       "    .dataframe tbody tr th:only-of-type {\n",
       "        vertical-align: middle;\n",
       "    }\n",
       "\n",
       "    .dataframe tbody tr th {\n",
       "        vertical-align: top;\n",
       "    }\n",
       "\n",
       "    .dataframe thead th {\n",
       "        text-align: right;\n",
       "    }\n",
       "</style>\n",
       "<table border=\"1\" class=\"dataframe\">\n",
       "  <thead>\n",
       "    <tr style=\"text-align: right;\">\n",
       "      <th></th>\n",
       "      <th>feature_1</th>\n",
       "      <th>feature_2</th>\n",
       "      <th>feature_3</th>\n",
       "      <th>feature_4</th>\n",
       "      <th>ext</th>\n",
       "      <th>is_good</th>\n",
       "    </tr>\n",
       "  </thead>\n",
       "  <tbody>\n",
       "    <tr>\n",
       "      <th>0</th>\n",
       "      <td>100km</td>\n",
       "      <td>ukcp</td>\n",
       "      <td></td>\n",
       "      <td></td>\n",
       "      <td>csv</td>\n",
       "      <td>0</td>\n",
       "    </tr>\n",
       "    <tr>\n",
       "      <th>9000</th>\n",
       "      <td>tas</td>\n",
       "      <td>cmip</td>\n",
       "      <td>5km</td>\n",
       "      <td>2018</td>\n",
       "      <td>nc</td>\n",
       "      <td>1</td>\n",
       "    </tr>\n",
       "    <tr>\n",
       "      <th>7000</th>\n",
       "      <td>slhf</td>\n",
       "      <td>era</td>\n",
       "      <td>100km</td>\n",
       "      <td>2013</td>\n",
       "      <td>csv</td>\n",
       "      <td>1</td>\n",
       "    </tr>\n",
       "    <tr>\n",
       "      <th>5000</th>\n",
       "      <td>slhf</td>\n",
       "      <td>cmip</td>\n",
       "      <td>5km</td>\n",
       "      <td>2025</td>\n",
       "      <td>cfh</td>\n",
       "      <td>0</td>\n",
       "    </tr>\n",
       "    <tr>\n",
       "      <th>3000</th>\n",
       "      <td>pr</td>\n",
       "      <td>era</td>\n",
       "      <td>100km</td>\n",
       "      <td>2027</td>\n",
       "      <td>csv</td>\n",
       "      <td>1</td>\n",
       "    </tr>\n",
       "  </tbody>\n",
       "</table>\n",
       "</div>"
      ],
      "text/plain": [
       "     feature_1 feature_2 feature_3 feature_4  ext  is_good\n",
       "0        100km      ukcp                      csv        0\n",
       "9000       tas      cmip       5km      2018   nc        1\n",
       "7000      slhf       era     100km      2013  csv        1\n",
       "5000      slhf      cmip       5km      2025  cfh        0\n",
       "3000        pr       era     100km      2027  csv        1"
      ]
     },
     "execution_count": 19,
     "metadata": {},
     "output_type": "execute_result"
    }
   ],
   "source": [
    "df = ff.get_ai_ready_batch(n=20000, n_bad=4000)\n",
    "\n",
    "# Look at some random records\n",
    "df.iloc[[0, 9000, 7000, 5000, 3000]].head()"
   ]
  },
  {
   "cell_type": "markdown",
   "id": "9bc5bb9b-9f30-49e9-9980-4aeecc51d2c9",
   "metadata": {},
   "source": [
    "## So, how would an ML model make sense of this dataset?\n",
    "\n",
    "### Encoding the dataset\n",
    "\n",
    "In general, a simple ML model would:\n",
    "- not be able to accept data as text strings.\n",
    "- expect to read data as a `DataFrame` or `numpy` array.\n",
    "- would expect the data to be represented in a way in which each field in the above table would have an *equal weighting*.\n",
    "\n",
    "Because of the last point, we need to be careful if we convert the strings into numerical values. For example, we could convert the values of `feature_1` as follows:\n",
    "- \"100km\" --> 1\n",
    "- \"tas\" --> 2\n",
    "- \"slhf\" --> 3\n",
    "- \"pr\" --> 4\n",
    "\n",
    "The problem with that approach is that the model will assume that the numeric value of \"pr\" is much greater than that for \"100km\". We would therefore be providing the model with false and misleading information.\n",
    "\n",
    "The usual solution to this problem is apply a data transformation known as [*one-hot-encoding*](https://machinelearningmastery.com/why-one-hot-encode-data-in-machine-learning/). We will use this approach to convert the data structure into something that the various classifiers can work with (which will not introduce bias0.\n",
    "\n",
    "### Understanding the dataset in terms of *features* and a *target*\n",
    "\n",
    "In *supervised learning*, it is usually the case the input dataset arrives as a table, containing:\n",
    "- **features**: as the columns, except for the last one, which is the\n",
    "- **target**: this is the result that we want our model to learn to *predict*\n",
    "- **records**: as the rows, each record relates to one instance of our data (e.g. a file name)\n",
    "\n",
    "So, our dataset has 5 features (4 components of the file names, and one file extension), one target (`is_good`) column (which has a value of 0 or 1). There are 20,000 records (file names)."
   ]
  },
  {
   "cell_type": "code",
   "execution_count": 20,
   "id": "da10a4a2-5417-47d7-9c32-1628807fc623",
   "metadata": {},
   "outputs": [
    {
     "data": {
      "text/html": [
       "<div>\n",
       "<style scoped>\n",
       "    .dataframe tbody tr th:only-of-type {\n",
       "        vertical-align: middle;\n",
       "    }\n",
       "\n",
       "    .dataframe tbody tr th {\n",
       "        vertical-align: top;\n",
       "    }\n",
       "\n",
       "    .dataframe thead th {\n",
       "        text-align: right;\n",
       "    }\n",
       "</style>\n",
       "<table border=\"1\" class=\"dataframe\">\n",
       "  <thead>\n",
       "    <tr style=\"text-align: right;\">\n",
       "      <th></th>\n",
       "      <th>feature_1</th>\n",
       "      <th>feature_2</th>\n",
       "      <th>feature_3</th>\n",
       "      <th>feature_4</th>\n",
       "      <th>ext</th>\n",
       "      <th>is_good</th>\n",
       "    </tr>\n",
       "  </thead>\n",
       "  <tbody>\n",
       "    <tr>\n",
       "      <th>100</th>\n",
       "      <td>2009</td>\n",
       "      <td>cmip</td>\n",
       "      <td>25km</td>\n",
       "      <td></td>\n",
       "      <td>nc</td>\n",
       "      <td>0</td>\n",
       "    </tr>\n",
       "    <tr>\n",
       "      <th>101</th>\n",
       "      <td>2009</td>\n",
       "      <td></td>\n",
       "      <td></td>\n",
       "      <td></td>\n",
       "      <td>csv</td>\n",
       "      <td>0</td>\n",
       "    </tr>\n",
       "    <tr>\n",
       "      <th>102</th>\n",
       "      <td>2009</td>\n",
       "      <td>pr</td>\n",
       "      <td>era</td>\n",
       "      <td></td>\n",
       "      <td>nc</td>\n",
       "      <td>0</td>\n",
       "    </tr>\n",
       "    <tr>\n",
       "      <th>103</th>\n",
       "      <td>2009</td>\n",
       "      <td>era</td>\n",
       "      <td>100km</td>\n",
       "      <td></td>\n",
       "      <td>csv</td>\n",
       "      <td>0</td>\n",
       "    </tr>\n",
       "    <tr>\n",
       "      <th>104</th>\n",
       "      <td>2009</td>\n",
       "      <td></td>\n",
       "      <td></td>\n",
       "      <td></td>\n",
       "      <td>nc</td>\n",
       "      <td>0</td>\n",
       "    </tr>\n",
       "  </tbody>\n",
       "</table>\n",
       "</div>"
      ],
      "text/plain": [
       "    feature_1 feature_2 feature_3 feature_4  ext  is_good\n",
       "100      2009      cmip      25km             nc        0\n",
       "101      2009                                csv        0\n",
       "102      2009        pr       era             nc        0\n",
       "103      2009       era     100km            csv        0\n",
       "104      2009                                 nc        0"
      ]
     },
     "execution_count": 20,
     "metadata": {},
     "output_type": "execute_result"
    }
   ],
   "source": [
    "df.iloc[100:105].head()"
   ]
  },
  {
   "cell_type": "markdown",
   "id": "996777c9-37cb-4f6a-a16c-ea491c14dd13",
   "metadata": {},
   "source": [
    "## One-hot-encoding\n",
    "\n",
    "First, we'll create a class that contains our one-hot-encoder. It knows about the type of data we are working with, so it can be used for both *training* data (for training), *test* data (for evaluation) and future *unseen* data (for prediction). "
   ]
  },
  {
   "cell_type": "code",
   "execution_count": 21,
   "id": "6f922e3a-5c60-4002-a7b8-9ff645f8128b",
   "metadata": {},
   "outputs": [],
   "source": [
    "from sklearn.preprocessing import OneHotEncoder"
   ]
  },
  {
   "cell_type": "code",
   "execution_count": 22,
   "id": "d2a40549-f11e-4fe6-95d0-456226075c1a",
   "metadata": {},
   "outputs": [],
   "source": [
    "class FilenameOneHotEncoder:\n",
    "    \"\"\"\n",
    "    A wrapper around the sklearn OneHotEncoder.\n",
    "    Once we have an instance of this class, it can be used to\n",
    "    transform data in training, testing and prediction phases.\n",
    "    \"\"\"\n",
    "\n",
    "    def __init__(self, df, target=\"is_good\"):\n",
    "        self.target_name = target\n",
    "        self.enc = OneHotEncoder(handle_unknown=\"ignore\")\n",
    "\n",
    "        self.df = self._drop_target(df)\n",
    "        self.columns = list(self.df.columns)\n",
    "        self.enc.fit(self.df)\n",
    "\n",
    "    def _drop_target(self, df):\n",
    "        df = df.copy()\n",
    "        if self.target_name in df.columns:\n",
    "            df = df.drop(columns=[self.target_name])\n",
    "\n",
    "        return df\n",
    "\n",
    "    def transform(self, df):\n",
    "        df = self._drop_target(df)\n",
    "        features_encoded = self.enc.transform(df).toarray()\n",
    "        features = pd.DataFrame(features_encoded, \n",
    "                                columns=self.enc.get_feature_names_out(self.columns))\n",
    "        return features"
   ]
  },
  {
   "cell_type": "code",
   "execution_count": 23,
   "id": "dc4c24dd-ae9c-412c-adae-375cba6c341b",
   "metadata": {},
   "outputs": [],
   "source": [
    "# Let's create our one-hot-encoder instance for future use.\n",
    "one_hot_encoder = FilenameOneHotEncoder(df, target=\"is_good\")"
   ]
  },
  {
   "cell_type": "markdown",
   "id": "f5cde641-169a-4c3a-bfd7-b6255e3ad01b",
   "metadata": {},
   "source": [
    "Let's do a quick demonstration of the one-hot-encoder for a dataset with two records:"
   ]
  },
  {
   "cell_type": "code",
   "execution_count": 24,
   "id": "e56d13f6-fef5-4e48-ba89-811a15ac114f",
   "metadata": {},
   "outputs": [
    {
     "name": "stdout",
     "output_type": "stream",
     "text": [
      "This slice of the one-hot-encoded DataFrame contains 1 for `feature_1_pr`, and 0s for others...\n"
     ]
    },
    {
     "data": {
      "text/html": [
       "<div>\n",
       "<style scoped>\n",
       "    .dataframe tbody tr th:only-of-type {\n",
       "        vertical-align: middle;\n",
       "    }\n",
       "\n",
       "    .dataframe tbody tr th {\n",
       "        vertical-align: top;\n",
       "    }\n",
       "\n",
       "    .dataframe thead th {\n",
       "        text-align: right;\n",
       "    }\n",
       "</style>\n",
       "<table border=\"1\" class=\"dataframe\">\n",
       "  <thead>\n",
       "    <tr style=\"text-align: right;\">\n",
       "      <th></th>\n",
       "      <th>feature_1_nimsat</th>\n",
       "      <th>feature_1_pr</th>\n",
       "      <th>feature_1_rp</th>\n",
       "      <th>feature_1_sat</th>\n",
       "      <th>feature_1_slhf</th>\n",
       "      <th>feature_1_tas</th>\n",
       "      <th>feature_1_tasmax</th>\n",
       "    </tr>\n",
       "  </thead>\n",
       "  <tbody>\n",
       "    <tr>\n",
       "      <th>0</th>\n",
       "      <td>0</td>\n",
       "      <td>1</td>\n",
       "      <td>0</td>\n",
       "      <td>0</td>\n",
       "      <td>0</td>\n",
       "      <td>0</td>\n",
       "      <td>0</td>\n",
       "    </tr>\n",
       "  </tbody>\n",
       "</table>\n",
       "</div>"
      ],
      "text/plain": [
       "   feature_1_nimsat  feature_1_pr  feature_1_rp  feature_1_sat  \\\n",
       "0                 0             1             0              0   \n",
       "\n",
       "   feature_1_slhf  feature_1_tas  feature_1_tasmax  \n",
       "0               0              0                 0  "
      ]
     },
     "execution_count": 24,
     "metadata": {},
     "output_type": "execute_result"
    }
   ],
   "source": [
    "# Quick test it works for new file names\n",
    "df_newfile = ff.filename_to_df(\"pr_ukcp_25km_2000.nc\")\n",
    "df_enc = one_hot_encoder.transform(df_newfile)\n",
    "\n",
    "print(\"This slice of the one-hot-encoded DataFrame contains 1 for `feature_1_pr`, and 0s for others...\")\n",
    "df_enc.iloc[:, 38:45].astype(np.int64)"
   ]
  },
  {
   "cell_type": "markdown",
   "id": "dbd42c30-63ca-461d-8732-bfe15fa25f29",
   "metadata": {},
   "source": [
    "## Splitting the dataset\n",
    "\n",
    "In ML, it is convention to split the dataset into:\n",
    "- **training set**: for selecting and training models, and tuning their hyperparameters (i.e. the parameters that can be tweaked for each model type).\n",
    "- **test set**: used on the final chosen model, to evaluate how well it performs on unseen data.\n",
    "\n",
    "Typically, you might split the overall dataset into 70% for training and 30% for testing. There are various more sophisticated methods of doing this that are beyond the scope of this tutorial."
   ]
  },
  {
   "cell_type": "code",
   "execution_count": 25,
   "id": "3716f3c2-66ad-4f8e-9787-210efb1a329d",
   "metadata": {},
   "outputs": [],
   "source": [
    "from sklearn.model_selection import train_test_split\n",
    "\n",
    "\n",
    "def split_data(df, one_hot_encoder=one_hot_encoder):\n",
    "    \"\"\"\n",
    "    Split the input dataset into 4 components:\n",
    "    - X_train: the feature columns of training data\n",
    "    - X_test:  the feature columns of the test data\n",
    "    - y_train: the target column of the training data\n",
    "    - y_test:  the target column of the test data\n",
    "\n",
    "    Note: the default `one_hot_encoder` is the global instance created above.\n",
    "\n",
    "    Return as a tuple: (X_train, X_test, y_train, y_test)\n",
    "    \"\"\"\n",
    "    features = one_hot_encoder.transform(df)\n",
    "    target = df[\"is_good\"].copy()\n",
    "\n",
    "    # We switch on stratify=True so that both the training and test datasets\n",
    "    # have an equal distribution of good and bad files\n",
    "    X_train, X_test, y_train, y_test = train_test_split(features, target,\n",
    "                                                        test_size=0.3, random_state=42, \n",
    "                                                        shuffle=True, stratify=target)\n",
    "    return X_train, X_test, y_train, y_test"
   ]
  },
  {
   "cell_type": "code",
   "execution_count": 26,
   "id": "9f16c3a6-b853-4c82-b2c7-a462f72150c2",
   "metadata": {},
   "outputs": [],
   "source": [
    "# Split our data\n",
    "X_train, X_test, y_train, y_test = split_data(df)"
   ]
  },
  {
   "cell_type": "markdown",
   "id": "ffe140b0-6921-4538-b5ec-238349d00429",
   "metadata": {},
   "source": [
    "**NOTE**: we put the test data (`X_test` and `y_test`) to one side and don't touch it until we are evaluating the final model."
   ]
  },
  {
   "cell_type": "markdown",
   "id": "6bfe83c9-7b4d-40f8-9889-e30a715e99d4",
   "metadata": {},
   "source": [
    "## What does our transformed dataset look like?\n",
    "\n",
    "The `X_train` dataset has 14,000 rows, which is 70% of the total 20,000 rows provided in the input dataset. That was the test/train split we specified above.\n",
    "\n",
    "We now have data transformed into a form that an ML model can handle. There are 1,739 columns, because we have one-hot-encoded the data. All the values of the training data are either ones or zeros.or zeros."
   ]
  },
  {
   "cell_type": "code",
   "execution_count": 27,
   "id": "eea4930b-9026-4175-ad3f-dc73ab66fb8e",
   "metadata": {},
   "outputs": [
    {
     "data": {
      "text/plain": [
       "((14000, 1739), (14000,))"
      ]
     },
     "execution_count": 27,
     "metadata": {},
     "output_type": "execute_result"
    }
   ],
   "source": [
    "X_train.shape, y_train.shape"
   ]
  },
  {
   "cell_type": "markdown",
   "id": "c1b5a336-5985-4529-8e35-dbd729c64328",
   "metadata": {},
   "source": [
    "### Why are there so many columns now?\n",
    "\n",
    "**1,739 columns!** That seems like *a lot*, so let's look at why there are so many. In the `FilenameFactory` class, there are the following components that are used to create files:\n",
    "\n",
    "```python\n",
    "    c1 = [\"tas\", \"tasmax\", \"tasmin\", \"pr\", \"slhf\"]\n",
    "    c2 = [\"ukcp\", \"cmip\", \"era\"]\n",
    "    c3 = [\"5km\", \"25km\", \"60km\", \"100km\"]\n",
    "    c4 = [str(year) for year in range(2000, 2031)]\n",
    "    ext = [\".nc\", \".csv\"]\n",
    "```\n",
    "\n",
    "In theory, if we are just creating permutations of `c1`, `c2, `c3`, `c4` and `c5` we would have:\n",
    "- `5 x 3 x 4 x 31 x 2 = 3,720` columns\n",
    "\n",
    "The reason we have a lot more is that the *bad* files introduce a great deal of variation into the data structure.\n",
    "\n",
    "For *good* files, the `create` generates a random file from the above permutations, i.e.:\n",
    "\n",
    "\n",
    "```python\n",
    "        d = {x: kwargs.get(x, random.choice(getattr(self, x))) for x in \n",
    "                        [\"c1\", \"c2\", \"c3\", \"c4\", \"ext\"]}\n",
    "```\n",
    "\n",
    "But, for *bad* files, there are loads more possibilities, as follows:\n",
    " 1. Some components of file name missing (so items from the above list will appear in different features.\n",
    " 2. The extension is removed.\n",
    " 3. The extension is invalid (a random string).\n",
    " 4. The year is a random string (and not a number in the expected range).\n",
    " 5. The first component is reversed (e.g. \"tasmax\" is converted to \"xamsat\").\n",
    "\n",
    "This means that you end up with lots of extra possible values for each feature, and each gets another column when you one-hot encode the dataset. For example, here are some of the **feature 4 values**:"
   ]
  },
  {
   "cell_type": "code",
   "execution_count": 44,
   "id": "86aefe1e-ce5e-43da-a305-9f3338374dab",
   "metadata": {},
   "outputs": [
    {
     "name": "stdout",
     "output_type": "stream",
     "text": [
      "There are 838 values for feature 4!\n",
      "Here are the first 100: ['feature_4_', 'feature_4_2000', 'feature_4_2001', 'feature_4_2002', 'feature_4_2003', 'feature_4_2004', 'feature_4_2005', 'feature_4_2006', 'feature_4_2007', 'feature_4_2008', 'feature_4_2009', 'feature_4_2010', 'feature_4_2011', 'feature_4_2012', 'feature_4_2013', 'feature_4_2014', 'feature_4_2015', 'feature_4_2016', 'feature_4_2017', 'feature_4_2018', 'feature_4_2019', 'feature_4_2020', 'feature_4_2021', 'feature_4_2022', 'feature_4_2023', 'feature_4_2024', 'feature_4_2025', 'feature_4_2026', 'feature_4_2027', 'feature_4_2028', 'feature_4_2029', 'feature_4_2030', 'feature_4_abrq', 'feature_4_adeg', 'feature_4_adol', 'feature_4_advr', 'feature_4_afur', 'feature_4_agew', 'feature_4_agsw', 'feature_4_ahco', 'feature_4_ahkw', 'feature_4_ahrn', 'feature_4_aiyq', 'feature_4_aizl', 'feature_4_ajhf', 'feature_4_ajoq', 'feature_4_ajwu', 'feature_4_akds', 'feature_4_akiv', 'feature_4_alqy', 'feature_4_anys', 'feature_4_aovw', 'feature_4_aoyh', 'feature_4_aruc', 'feature_4_asio', 'feature_4_atqn', 'feature_4_atsv', 'feature_4_axew', 'feature_4_axli', 'feature_4_axqh', 'feature_4_axyh', 'feature_4_aybl', 'feature_4_ayge', 'feature_4_aywg', 'feature_4_azvn', 'feature_4_baxe', 'feature_4_bcyi', 'feature_4_bdcw', 'feature_4_bdgh', 'feature_4_bdit', 'feature_4_beda', 'feature_4_bfku', 'feature_4_bgcz', 'feature_4_bgdq', 'feature_4_bgxz', 'feature_4_bhti', 'feature_4_bidj', 'feature_4_bidm', 'feature_4_biqu', 'feature_4_bklx', 'feature_4_bkon', 'feature_4_bkri', 'feature_4_bluj', 'feature_4_blvf', 'feature_4_bmav', 'feature_4_bnam', 'feature_4_bnle', 'feature_4_bqpl', 'feature_4_brpy', 'feature_4_bxiu', 'feature_4_bxkj', 'feature_4_bxsp', 'feature_4_byhk', 'feature_4_byxr', 'feature_4_bzje', 'feature_4_bzoi', 'feature_4_caqi', 'feature_4_cast', 'feature_4_cbty', 'feature_4_cbxg']\n"
     ]
    }
   ],
   "source": [
    "# Let's see some of the values for feature 1:\n",
    "feature_4s = [col for col in X_train.columns if col.startswith(\"feature_4_\")]\n",
    "print(f\"There are {len(feature_4s)} values for feature 4!\")\n",
    "print(\"Here are the first 100:\", feature_4s[:100])"
   ]
  },
  {
   "cell_type": "code",
   "execution_count": 29,
   "id": "8131cd38-e208-4dc6-914c-2f22ae0202bb",
   "metadata": {},
   "outputs": [
    {
     "name": "stdout",
     "output_type": "stream",
     "text": [
      "Let's check the first three records makes sense...\n"
     ]
    },
    {
     "data": {
      "text/html": [
       "<div>\n",
       "<style scoped>\n",
       "    .dataframe tbody tr th:only-of-type {\n",
       "        vertical-align: middle;\n",
       "    }\n",
       "\n",
       "    .dataframe tbody tr th {\n",
       "        vertical-align: top;\n",
       "    }\n",
       "\n",
       "    .dataframe thead th {\n",
       "        text-align: right;\n",
       "    }\n",
       "</style>\n",
       "<table border=\"1\" class=\"dataframe\">\n",
       "  <thead>\n",
       "    <tr style=\"text-align: right;\">\n",
       "      <th></th>\n",
       "      <th>feature_1_pr</th>\n",
       "      <th>feature_1_tas</th>\n",
       "      <th>feature_2_cmip</th>\n",
       "      <th>feature_2_ukcp</th>\n",
       "      <th>feature_3_100km</th>\n",
       "      <th>feature_3_25km</th>\n",
       "      <th>feature_3_5km</th>\n",
       "      <th>feature_4_2005</th>\n",
       "      <th>feature_4_2012</th>\n",
       "      <th>feature_4_2027</th>\n",
       "      <th>ext_</th>\n",
       "      <th>ext_csv</th>\n",
       "      <th>ext_nc</th>\n",
       "      <th>is_good</th>\n",
       "    </tr>\n",
       "  </thead>\n",
       "  <tbody>\n",
       "    <tr>\n",
       "      <th>3261</th>\n",
       "      <td>1</td>\n",
       "      <td>0</td>\n",
       "      <td>1</td>\n",
       "      <td>0</td>\n",
       "      <td>0</td>\n",
       "      <td>0</td>\n",
       "      <td>1</td>\n",
       "      <td>0</td>\n",
       "      <td>1</td>\n",
       "      <td>0</td>\n",
       "      <td>1</td>\n",
       "      <td>0</td>\n",
       "      <td>0</td>\n",
       "      <td>0</td>\n",
       "    </tr>\n",
       "    <tr>\n",
       "      <th>11791</th>\n",
       "      <td>0</td>\n",
       "      <td>1</td>\n",
       "      <td>1</td>\n",
       "      <td>0</td>\n",
       "      <td>1</td>\n",
       "      <td>0</td>\n",
       "      <td>0</td>\n",
       "      <td>0</td>\n",
       "      <td>0</td>\n",
       "      <td>1</td>\n",
       "      <td>0</td>\n",
       "      <td>1</td>\n",
       "      <td>0</td>\n",
       "      <td>1</td>\n",
       "    </tr>\n",
       "    <tr>\n",
       "      <th>11805</th>\n",
       "      <td>0</td>\n",
       "      <td>1</td>\n",
       "      <td>0</td>\n",
       "      <td>1</td>\n",
       "      <td>0</td>\n",
       "      <td>1</td>\n",
       "      <td>0</td>\n",
       "      <td>1</td>\n",
       "      <td>0</td>\n",
       "      <td>0</td>\n",
       "      <td>0</td>\n",
       "      <td>0</td>\n",
       "      <td>1</td>\n",
       "      <td>1</td>\n",
       "    </tr>\n",
       "  </tbody>\n",
       "</table>\n",
       "</div>"
      ],
      "text/plain": [
       "       feature_1_pr  feature_1_tas  feature_2_cmip  feature_2_ukcp  \\\n",
       "3261              1              0               1               0   \n",
       "11791             0              1               1               0   \n",
       "11805             0              1               0               1   \n",
       "\n",
       "       feature_3_100km  feature_3_25km  feature_3_5km  feature_4_2005  \\\n",
       "3261                 0               0              1               0   \n",
       "11791                1               0              0               0   \n",
       "11805                0               1              0               1   \n",
       "\n",
       "       feature_4_2012  feature_4_2027  ext_  ext_csv  ext_nc  is_good  \n",
       "3261                1               0     1        0       0        0  \n",
       "11791               0               1     0        1       0        1  \n",
       "11805               0               0     0        0       1        1  "
      ]
     },
     "execution_count": 29,
     "metadata": {},
     "output_type": "execute_result"
    }
   ],
   "source": [
    "print(\"Let's check the first three records makes sense...\")\n",
    "df_3_recs = X_train.iloc[:3]\n",
    "df_3_recs.iloc[:3].loc[:, (df_3_recs != 0).any(axis=0)].join(y_train.iloc[:3]).astype(np.int64)"
   ]
  },
  {
   "cell_type": "markdown",
   "id": "d4980ed1-b068-4388-8b49-3059011ec494",
   "metadata": {},
   "source": [
    "## The data is now prepared for an ML model, let's try a range of different models\n",
    "\n",
    "Here, we import and select a range of different Machine Learning models from the `scikit-learn` (import a `sklearn`) library.\n",
    "\n",
    "For each model (known as a *classifier*), we:\n",
    "1. Create an instance of the classifier, with some initial parameters set (known as \"hyperparameters\" in the ML world).\n",
    "2. Train the classififer on the 70% of data used as *training* data.\n",
    "3. Then evaluate the *score* for the classifier by using the *test* data (i.e. the *unseen* 30% of the data).\n",
    "\n",
    "Useful sources:\n",
    "- Plot classifier comparison in [sklearn](https://scikit-learn.org/stable/auto_examples/classification/plot_classifier_comparison.html)\n",
    "- [Supervised learning in sklearn](https://scikit-learn.org/stable/supervised_learning.html#supervised-learning)\n",
    "\n",
    "**NOTE**: we include a `Dummy` classifier, which predicts the most frequent target (i.e. \"good\" files). This is useful to understand whether the measure of accuracy being achieved by a classifier is actually better than a constant/random guess."
   ]
  },
  {
   "cell_type": "code",
   "execution_count": 30,
   "id": "0dc0950d-b434-4d15-b5f7-95a838c22354",
   "metadata": {},
   "outputs": [],
   "source": [
    "# Import a selection of different models\n",
    "from sklearn.linear_model import SGDClassifier\n",
    "from sklearn.dummy import DummyClassifier\n",
    "from sklearn.discriminant_analysis import QuadraticDiscriminantAnalysis\n",
    "from sklearn.ensemble import AdaBoostClassifier, RandomForestClassifier\n",
    "from sklearn.gaussian_process.kernels import RBF\n",
    "from sklearn.model_selection import train_test_split\n",
    "from sklearn.naive_bayes import GaussianNB\n",
    "from sklearn.neighbors import KNeighborsClassifier\n",
    "from sklearn.neural_network import MLPClassifier\n",
    "from sklearn.svm import SVC\n",
    "from sklearn.tree import DecisionTreeClassifier\n",
    "\n",
    "# Import a range of metrics that could be used to compare models\n",
    "from sklearn.metrics import (r2_score, mean_squared_error, root_mean_squared_error, \n",
    "                            accuracy_score, f1_score, precision_score, recall_score,\n",
    "                            balanced_accuracy_score)"
   ]
  },
  {
   "cell_type": "code",
   "execution_count": 31,
   "id": "3713b8b3-572a-4f97-bf94-aa1adfc50f50",
   "metadata": {},
   "outputs": [],
   "source": [
    "# Names for our classifiers\n",
    "names = [\n",
    "    \"Dummy\",\n",
    "    \"Nearest Neighbors\",\n",
    "    \"Linear SVM\",\n",
    "    \"RBF SVM\",\n",
    "    \"Decision Tree\",\n",
    "    \"Random Forest\",\n",
    "    \"Neural Net\",\n",
    "    \"AdaBoost\",\n",
    "    \"Gaussian Naive Bayes\",\n",
    "    \"QDA\",\n",
    "    \"Stochastic Gradient Descent\"\n",
    "]\n",
    "\n",
    "# sklearn classifier class instances (with some hyperparameters set)\n",
    "classifiers = [\n",
    "    DummyClassifier(),\n",
    "    KNeighborsClassifier(3),\n",
    "    SVC(kernel=\"linear\", C=0.025, random_state=42),\n",
    "    SVC(gamma=2, C=1, random_state=42),\n",
    "    DecisionTreeClassifier(max_depth=5, random_state=42),\n",
    "    RandomForestClassifier(\n",
    "        max_depth=5, n_estimators=10, max_features=1, random_state=42\n",
    "    ),\n",
    "    MLPClassifier(alpha=1, max_iter=1000, random_state=42),\n",
    "    AdaBoostClassifier(algorithm=\"SAMME\", random_state=42),\n",
    "    GaussianNB(),\n",
    "    QuadraticDiscriminantAnalysis(),\n",
    "    SGDClassifier(random_state=42),\n",
    "]\n",
    "\n",
    "# Examples of different scorers for assessing performance\n",
    "scorers = {\n",
    "    \"accuracy\": accuracy_score,\n",
    "    \"r2\": r2_score,\n",
    "    \"mse\": mean_squared_error,\n",
    "    \"rmse\": root_mean_squared_error,\n",
    "    \"precision\": precision_score,\n",
    "    \"recall\": recall_score,\n",
    "    \"balanced_accuracy\": balanced_accuracy_score,\n",
    "    \"f1\": f1_score\n",
    "}"
   ]
  },
  {
   "cell_type": "code",
   "execution_count": 32,
   "id": "eb7f7a07-6e55-4005-9e00-725c6693d0b3",
   "metadata": {},
   "outputs": [
    {
     "name": "stdout",
     "output_type": "stream",
     "text": [
      "Loading results from: results_1.csv\n"
     ]
    }
   ],
   "source": [
    "results_columns = [\"classifier\", \"duration\", \"score\"] + list(scorers.keys())\n",
    "results_file = \"results_1.csv\"\n",
    "\n",
    "if os.path.isfile(results_file):\n",
    "    print(f\"Loading results from: {results_file}\")\n",
    "    results_df = pd.read_csv(results_file)\n",
    "else:\n",
    "    print(\"Generating results by running each classifier...\")\n",
    "    results_df = pd.DataFrame([], columns=results_columns, dtype=np.float64)\n",
    "    results_df[\"classifier\"] = results_df[\"classifier\"].astype(str)\n",
    "    \n",
    "    print(results_columns)\n",
    "    \n",
    "    # iterate over classifiers\n",
    "    for name, clf in zip(names, classifiers):\n",
    "        print(f\"Running: {name}\")\n",
    "        start = time.time()\n",
    "        clf.fit(X_train, y_train)\n",
    "        y_predictions = clf.predict(X_test)\n",
    "        clf_score = clf.score(X_test, y_test)\n",
    "        duration = time.time() - start\n",
    "    \n",
    "        results = [name, duration, clf_score] + [scorers[scorer](y_test, y_predictions) for scorer in scorers]\n",
    "        print(results)\n",
    "        \n",
    "        results_df.loc[len(results_df), results_df.columns] = results\n",
    "    \n",
    "    print(f\"Caching results for later, to {results_file}\")\n",
    "    results_df.to_csv(results_file, index=False)"
   ]
  },
  {
   "cell_type": "markdown",
   "id": "70fcb6eb-999e-4aee-b1e8-e58540753c3c",
   "metadata": {},
   "source": [
    "Let's plot the results and work out which look like the best classifiers..."
   ]
  },
  {
   "cell_type": "code",
   "execution_count": 33,
   "id": "7236a059-82d7-475f-b48e-0e5936331b58",
   "metadata": {},
   "outputs": [],
   "source": [
    "rdf = results_df.copy()"
   ]
  },
  {
   "cell_type": "markdown",
   "id": "0115902d-e020-4318-ad3a-9208759527b7",
   "metadata": {},
   "source": [
    "The `score_duration_metric` column is a measure that tries to balance out the cost of a model (in terms of time - or CPU/energy use) versus the accuracty score."
   ]
  },
  {
   "cell_type": "code",
   "execution_count": 34,
   "id": "22cc87e4-8c3c-482b-883b-bac8a46d749f",
   "metadata": {},
   "outputs": [],
   "source": [
    "rdf[\"score_duration_metric\"] = (rdf[\"score\"] - rdf[\"score\"].min() + 0.0001) / (rdf[\"duration\"] / rdf[\"duration\"].max())"
   ]
  },
  {
   "cell_type": "markdown",
   "id": "4672e0dd-17e6-430b-9b93-62347d85dc65",
   "metadata": {},
   "source": [
    "## Plotting a comparison of the classifiers and their results\n",
    "\n",
    "The following plot shows the `score_duration_metric` in black, which is considered our favoured measure of how cheap and accurate a model is. The green line shows a threshold above which we are happy to use the results."
   ]
  },
  {
   "cell_type": "code",
   "execution_count": 35,
   "id": "f99c9acc-db4a-4cdb-b642-a9b2d47abbf1",
   "metadata": {},
   "outputs": [
    {
     "name": "stdout",
     "output_type": "stream",
     "text": [
      "Top classifiers (at the top of the table), taking into account the duration (and CPU cost)...\n"
     ]
    },
    {
     "data": {
      "text/html": [
       "<div>\n",
       "<style scoped>\n",
       "    .dataframe tbody tr th:only-of-type {\n",
       "        vertical-align: middle;\n",
       "    }\n",
       "\n",
       "    .dataframe tbody tr th {\n",
       "        vertical-align: top;\n",
       "    }\n",
       "\n",
       "    .dataframe thead th {\n",
       "        text-align: right;\n",
       "    }\n",
       "</style>\n",
       "<table border=\"1\" class=\"dataframe\">\n",
       "  <thead>\n",
       "    <tr style=\"text-align: right;\">\n",
       "      <th></th>\n",
       "      <th>classifier</th>\n",
       "      <th>duration</th>\n",
       "      <th>score</th>\n",
       "      <th>accuracy</th>\n",
       "      <th>r2</th>\n",
       "      <th>mse</th>\n",
       "      <th>rmse</th>\n",
       "      <th>precision</th>\n",
       "      <th>recall</th>\n",
       "      <th>balanced_accuracy</th>\n",
       "      <th>f1</th>\n",
       "      <th>score_duration_metric</th>\n",
       "    </tr>\n",
       "  </thead>\n",
       "  <tbody>\n",
       "    <tr>\n",
       "      <th>10</th>\n",
       "      <td>Stochastic Gradient Descent</td>\n",
       "      <td>0.594</td>\n",
       "      <td>1.000</td>\n",
       "      <td>1.000</td>\n",
       "      <td>1.000</td>\n",
       "      <td>0.000</td>\n",
       "      <td>0.000</td>\n",
       "      <td>1.000</td>\n",
       "      <td>1.000</td>\n",
       "      <td>1.000</td>\n",
       "      <td>1.000</td>\n",
       "      <td>168.748</td>\n",
       "    </tr>\n",
       "    <tr>\n",
       "      <th>8</th>\n",
       "      <td>Gaussian Naive Bayes</td>\n",
       "      <td>1.307</td>\n",
       "      <td>0.922</td>\n",
       "      <td>0.922</td>\n",
       "      <td>0.515</td>\n",
       "      <td>0.078</td>\n",
       "      <td>0.279</td>\n",
       "      <td>0.912</td>\n",
       "      <td>1.000</td>\n",
       "      <td>0.806</td>\n",
       "      <td>0.954</td>\n",
       "      <td>46.929</td>\n",
       "    </tr>\n",
       "    <tr>\n",
       "      <th>4</th>\n",
       "      <td>Decision Tree</td>\n",
       "      <td>2.166</td>\n",
       "      <td>0.904</td>\n",
       "      <td>0.904</td>\n",
       "      <td>0.401</td>\n",
       "      <td>0.096</td>\n",
       "      <td>0.310</td>\n",
       "      <td>0.893</td>\n",
       "      <td>1.000</td>\n",
       "      <td>0.760</td>\n",
       "      <td>0.943</td>\n",
       "      <td>24.116</td>\n",
       "    </tr>\n",
       "    <tr>\n",
       "      <th>0</th>\n",
       "      <td>Dummy</td>\n",
       "      <td>0.004</td>\n",
       "      <td>0.800</td>\n",
       "      <td>0.800</td>\n",
       "      <td>-0.250</td>\n",
       "      <td>0.200</td>\n",
       "      <td>0.447</td>\n",
       "      <td>0.800</td>\n",
       "      <td>1.000</td>\n",
       "      <td>0.500</td>\n",
       "      <td>0.889</td>\n",
       "      <td>12.527</td>\n",
       "    </tr>\n",
       "    <tr>\n",
       "      <th>9</th>\n",
       "      <td>QDA</td>\n",
       "      <td>14.855</td>\n",
       "      <td>0.923</td>\n",
       "      <td>0.923</td>\n",
       "      <td>0.518</td>\n",
       "      <td>0.077</td>\n",
       "      <td>0.278</td>\n",
       "      <td>0.912</td>\n",
       "      <td>1.000</td>\n",
       "      <td>0.807</td>\n",
       "      <td>0.954</td>\n",
       "      <td>4.145</td>\n",
       "    </tr>\n",
       "    <tr>\n",
       "      <th>1</th>\n",
       "      <td>Nearest Neighbors</td>\n",
       "      <td>10.390</td>\n",
       "      <td>0.883</td>\n",
       "      <td>0.883</td>\n",
       "      <td>0.268</td>\n",
       "      <td>0.117</td>\n",
       "      <td>0.342</td>\n",
       "      <td>0.873</td>\n",
       "      <td>0.999</td>\n",
       "      <td>0.708</td>\n",
       "      <td>0.932</td>\n",
       "      <td>3.998</td>\n",
       "    </tr>\n",
       "    <tr>\n",
       "      <th>6</th>\n",
       "      <td>Neural Net</td>\n",
       "      <td>57.158</td>\n",
       "      <td>0.968</td>\n",
       "      <td>0.968</td>\n",
       "      <td>0.797</td>\n",
       "      <td>0.032</td>\n",
       "      <td>0.180</td>\n",
       "      <td>0.961</td>\n",
       "      <td>1.000</td>\n",
       "      <td>0.919</td>\n",
       "      <td>0.980</td>\n",
       "      <td>1.469</td>\n",
       "    </tr>\n",
       "    <tr>\n",
       "      <th>7</th>\n",
       "      <td>AdaBoost</td>\n",
       "      <td>39.161</td>\n",
       "      <td>0.879</td>\n",
       "      <td>0.879</td>\n",
       "      <td>0.245</td>\n",
       "      <td>0.121</td>\n",
       "      <td>0.348</td>\n",
       "      <td>0.869</td>\n",
       "      <td>1.000</td>\n",
       "      <td>0.698</td>\n",
       "      <td>0.930</td>\n",
       "      <td>1.014</td>\n",
       "    </tr>\n",
       "    <tr>\n",
       "      <th>2</th>\n",
       "      <td>Linear SVM</td>\n",
       "      <td>81.883</td>\n",
       "      <td>0.958</td>\n",
       "      <td>0.958</td>\n",
       "      <td>0.741</td>\n",
       "      <td>0.042</td>\n",
       "      <td>0.204</td>\n",
       "      <td>0.951</td>\n",
       "      <td>1.000</td>\n",
       "      <td>0.896</td>\n",
       "      <td>0.975</td>\n",
       "      <td>0.970</td>\n",
       "    </tr>\n",
       "    <tr>\n",
       "      <th>5</th>\n",
       "      <td>Random Forest</td>\n",
       "      <td>0.289</td>\n",
       "      <td>0.800</td>\n",
       "      <td>0.800</td>\n",
       "      <td>-0.250</td>\n",
       "      <td>0.200</td>\n",
       "      <td>0.447</td>\n",
       "      <td>0.800</td>\n",
       "      <td>1.000</td>\n",
       "      <td>0.500</td>\n",
       "      <td>0.889</td>\n",
       "      <td>0.173</td>\n",
       "    </tr>\n",
       "    <tr>\n",
       "      <th>3</th>\n",
       "      <td>RBF SVM</td>\n",
       "      <td>500.874</td>\n",
       "      <td>0.957</td>\n",
       "      <td>0.957</td>\n",
       "      <td>0.733</td>\n",
       "      <td>0.043</td>\n",
       "      <td>0.207</td>\n",
       "      <td>0.949</td>\n",
       "      <td>1.000</td>\n",
       "      <td>0.893</td>\n",
       "      <td>0.974</td>\n",
       "      <td>0.157</td>\n",
       "    </tr>\n",
       "  </tbody>\n",
       "</table>\n",
       "</div>"
      ],
      "text/plain": [
       "                     classifier  duration  score  accuracy     r2    mse  \\\n",
       "10  Stochastic Gradient Descent     0.594  1.000     1.000  1.000  0.000   \n",
       "8          Gaussian Naive Bayes     1.307  0.922     0.922  0.515  0.078   \n",
       "4                 Decision Tree     2.166  0.904     0.904  0.401  0.096   \n",
       "0                         Dummy     0.004  0.800     0.800 -0.250  0.200   \n",
       "9                           QDA    14.855  0.923     0.923  0.518  0.077   \n",
       "1             Nearest Neighbors    10.390  0.883     0.883  0.268  0.117   \n",
       "6                    Neural Net    57.158  0.968     0.968  0.797  0.032   \n",
       "7                      AdaBoost    39.161  0.879     0.879  0.245  0.121   \n",
       "2                    Linear SVM    81.883  0.958     0.958  0.741  0.042   \n",
       "5                 Random Forest     0.289  0.800     0.800 -0.250  0.200   \n",
       "3                       RBF SVM   500.874  0.957     0.957  0.733  0.043   \n",
       "\n",
       "     rmse  precision  recall  balanced_accuracy     f1  score_duration_metric  \n",
       "10  0.000      1.000   1.000              1.000  1.000                168.748  \n",
       "8   0.279      0.912   1.000              0.806  0.954                 46.929  \n",
       "4   0.310      0.893   1.000              0.760  0.943                 24.116  \n",
       "0   0.447      0.800   1.000              0.500  0.889                 12.527  \n",
       "9   0.278      0.912   1.000              0.807  0.954                  4.145  \n",
       "1   0.342      0.873   0.999              0.708  0.932                  3.998  \n",
       "6   0.180      0.961   1.000              0.919  0.980                  1.469  \n",
       "7   0.348      0.869   1.000              0.698  0.930                  1.014  \n",
       "2   0.204      0.951   1.000              0.896  0.975                  0.970  \n",
       "5   0.447      0.800   1.000              0.500  0.889                  0.173  \n",
       "3   0.207      0.949   1.000              0.893  0.974                  0.157  "
      ]
     },
     "execution_count": 35,
     "metadata": {},
     "output_type": "execute_result"
    },
    {
     "data": {
      "image/png": "[encoded data removed]",
      "text/plain": [
       "<Figure size 1400x600 with 2 Axes>"
      ]
     },
     "metadata": {},
     "output_type": "display_data"
    }
   ],
   "source": [
    "rdf = rdf.sort_values(by=\"duration\", ascending=False).round(3)\n",
    "\n",
    "fig, axs = plt.subplots(figsize=(14, 6), sharey=False)\n",
    "axs.set_xticks(range(len(rdf)))\n",
    "axs.set_xticklabels(rdf.classifier.values, fontsize=6)\n",
    "\n",
    "ax2 = axs.twinx()\n",
    "rdf.plot(\"classifier\", \"duration\", ax=axs, logy=True)\n",
    "rdf.plot(\"classifier\", \"score\", ax=ax2, color=\"orange\").legend(loc=\"lower center\")\n",
    "ax2.set_ylabel(\"Score (0-1)\")\n",
    "axs.set_ylabel(\"Log of value\")\n",
    "rdf.plot(\"classifier\", \"score_duration_metric\", ax=axs, color=\"black\", linewidth=3).legend(loc=\"lower left\")\n",
    "\n",
    "THRESHOLD = 20\n",
    "axs.axhline(y=THRESHOLD, color =\"green\", linestyle='--')\n",
    "for i, row in rdf[rdf[\"score_duration_metric\"] > THRESHOLD].iterrows():\n",
    "    text = axs.annotate(row.classifier, (list(rdf.classifier).index(row.classifier) - 0.3, row.score_duration_metric * 1.3),\n",
    "                fontsize=8)\n",
    "    text.set_bbox(dict(facecolor='white', alpha=0.8, linewidth=0))\n",
    "\n",
    "print(\"Top classifiers (at the top of the table), taking into account the duration (and CPU cost)...\")\n",
    "rdf.sort_values(by=\"score_duration_metric\", ascending=False)"
   ]
  },
  {
   "cell_type": "markdown",
   "id": "5d4d1f9a-1232-4dc4-8909-8792a9904f2f",
   "metadata": {},
   "source": [
    "## Review of the best models\n",
    "\n",
    "The Stochastic Gradient Descent, Naive Bayes and Decision Tree classifier looks like they get good results. Can we try them out on some test data?"
   ]
  },
  {
   "cell_type": "code",
   "execution_count": 36,
   "id": "b13a8f61-af04-467b-b4a8-69ade325270a",
   "metadata": {},
   "outputs": [
    {
     "name": "stdout",
     "output_type": "stream",
     "text": [
      "SGD accuracy score: 1.000\n",
      "NB accuracy score: 0.922\n",
      "DT accuracy score: 0.904\n"
     ]
    }
   ],
   "source": [
    "sgd_clf = SGDClassifier(random_state=42)\n",
    "sgd_clf.fit(X_train, y_train)\n",
    "print(f\"SGD accuracy score: {sgd_clf.score(X_test, y_test):.3f}\")\n",
    "\n",
    "nb_clf = GaussianNB()\n",
    "nb_clf.fit(X_train, y_train)\n",
    "print(f\"NB accuracy score: {nb_clf.score(X_test, y_test):.3f}\")\n",
    "\n",
    "dtree_clf = DecisionTreeClassifier(max_depth=5, random_state=42)\n",
    "dtree_clf.fit(X_train, y_train)\n",
    "print(f\"DT accuracy score: {dtree_clf.score(X_test, y_test):.3f}\")"
   ]
  },
  {
   "cell_type": "markdown",
   "id": "443bc948-747a-4688-85a9-8845b760f912",
   "metadata": {},
   "source": [
    "## Let's try these models to predict whether new file names are good or not\n",
    "\n",
    "We now have 3 candidate classifiers. We can write a couple of functions to take in new file names and then predict whether they are classified as \"good\" or \"bad\". Let's see how they work:"
   ]
  },
  {
   "cell_type": "code",
   "execution_count": 37,
   "id": "fcfd6055-ee3a-4fed-b8dd-fe49c4a3c0c2",
   "metadata": {},
   "outputs": [],
   "source": [
    "def filename_to_record(filename):\n",
    "    \"\"\"\n",
    "    Take a file name and return a one-hot-encoded `DataFrame`\n",
    "    ready for use by a classifier.\n",
    "    \"\"\"\n",
    "    df_newfile = ff.filename_to_df(filename)\n",
    "    df_enc = one_hot_encoder.transform(df_newfile)\n",
    "    return df_enc\n",
    "\n",
    "def is_file_good(filename, classifier):\n",
    "    \"\"\"\n",
    "    Does the `classifier` think that `filename` is good or bad.\n",
    "    \"\"\"\n",
    "    rec = filename_to_record(filename)\n",
    "    res = classifier.predict(rec)\n",
    "    result = int(res[0])\n",
    "    clf_name = classifier.__class__.__name__\n",
    "    print(f\"File: {filename} using {clf_name}:\", [\"BAD\", \"GOOD\"][result])"
   ]
  },
  {
   "cell_type": "markdown",
   "id": "ea8740df-d906-442a-910a-a8a55b79c8e7",
   "metadata": {},
   "source": [
    "Let's test some bad file names and see how they get on:"
   ]
  },
  {
   "cell_type": "code",
   "execution_count": 38,
   "id": "ba6bfc98-a433-4459-9257-5b2552dda1e6",
   "metadata": {},
   "outputs": [
    {
     "name": "stdout",
     "output_type": "stream",
     "text": [
      "File: my_bye.txt using SGDClassifier: BAD\n",
      "File: duff using SGDClassifier: BAD\n",
      "File: pq_ukcp_60km_2010.nc using SGDClassifier: BAD\n",
      "File: my_bye.txt using GaussianNB: BAD\n",
      "File: duff using GaussianNB: BAD\n",
      "File: pq_ukcp_60km_2010.nc using GaussianNB: GOOD\n",
      "File: my_bye.txt using DecisionTreeClassifier: BAD\n",
      "File: duff using DecisionTreeClassifier: BAD\n",
      "File: pq_ukcp_60km_2010.nc using DecisionTreeClassifier: GOOD\n"
     ]
    }
   ],
   "source": [
    "classifiers = (sgd_clf, nb_clf, dtree_clf)\n",
    "bad_files = (\"my_bye.txt\", \"duff\", \"pq_ukcp_60km_2010.nc\")\n",
    "\n",
    "for classifier in classifiers:\n",
    "    for bad_file in bad_files:\n",
    "        is_file_good(bad_file, classifier)"
   ]
  },
  {
   "cell_type": "markdown",
   "id": "a919c617-1a20-498e-b830-9139a92846e7",
   "metadata": {},
   "source": [
    "**NOTE:** in the above, the **SGD classifier correctly identifies the last file as bad**, whereas the Decision Tree classifier failed to do so."
   ]
  },
  {
   "cell_type": "code",
   "execution_count": 39,
   "id": "85d2dd77-39c1-4949-bb35-7581b44b311c",
   "metadata": {},
   "outputs": [
    {
     "name": "stdout",
     "output_type": "stream",
     "text": [
      "File: pr_ukcp_25km_2000.nc using SGDClassifier: GOOD\n",
      "File: tasmax_cmip_60km_2020.csv using SGDClassifier: GOOD\n",
      "File: slhf_era_100km_2030.nc using SGDClassifier: GOOD\n",
      "File: pr_ukcp_25km_2000.nc using GaussianNB: GOOD\n",
      "File: tasmax_cmip_60km_2020.csv using GaussianNB: GOOD\n",
      "File: slhf_era_100km_2030.nc using GaussianNB: GOOD\n",
      "File: pr_ukcp_25km_2000.nc using DecisionTreeClassifier: GOOD\n",
      "File: tasmax_cmip_60km_2020.csv using DecisionTreeClassifier: GOOD\n",
      "File: slhf_era_100km_2030.nc using DecisionTreeClassifier: GOOD\n"
     ]
    }
   ],
   "source": [
    "good_files = (\"pr_ukcp_25km_2000.nc\", \"tasmax_cmip_60km_2020.csv\", \"slhf_era_100km_2030.nc\")\n",
    "\n",
    "for classifier in classifiers:\n",
    "    for good_file in good_files:\n",
    "        is_file_good(good_file, classifier)"
   ]
  },
  {
   "cell_type": "markdown",
   "id": "86d20b9b-a055-4d07-8177-4fb2e1835562",
   "metadata": {},
   "source": [
    "## Should we introduce Nested Cross-Validation to this example?\n",
    "\n",
    "Here is a good example: https://machinelearningmastery.com/nested-cross-validation-for-machine-learning-with-python/"
   ]
  },
  {
   "cell_type": "code",
   "execution_count": 40,
   "id": "41d9a293-d4c7-4d59-b7e2-7bbed4e74f16",
   "metadata": {},
   "outputs": [
    {
     "name": "stdout",
     "output_type": "stream",
     "text": [
      "Accuracy: 0.927 (0.019)\n"
     ]
    }
   ],
   "source": [
    "# automatic nested cross-validation for random forest on a classification dataset\n",
    "from numpy import mean\n",
    "from numpy import std\n",
    "from sklearn.datasets import make_classification\n",
    "from sklearn.model_selection import cross_val_score\n",
    "from sklearn.model_selection import KFold\n",
    "from sklearn.model_selection import GridSearchCV\n",
    "from sklearn.ensemble import RandomForestClassifier\n",
    "\n",
    "# create dataset\n",
    "X, y = make_classification(n_samples=1000, n_features=20, random_state=1, n_informative=10, n_redundant=10)\n",
    "\n",
    "# configure the inner cross-validation procedure\n",
    "cv_inner = KFold(n_splits=3, shuffle=True, random_state=1)\n",
    "\n",
    "# define the model\n",
    "model = RandomForestClassifier(random_state=1)\n",
    "\n",
    "# define search space\n",
    "space = {\n",
    "    'n_estimators': [10, 100, 500],\n",
    "    'max_features': [2, 4, 6]\n",
    "}\n",
    "\n",
    "# define search\n",
    "search = GridSearchCV(model, space, scoring='accuracy', n_jobs=1, cv=cv_inner, refit=True)\n",
    "\n",
    "# configure the outer cross-validation procedure\n",
    "cv_outer = KFold(n_splits=10, shuffle=True, random_state=1)\n",
    "\n",
    "# execute the nested cross-validation\n",
    "scores = cross_val_score(search, X, y, scoring='accuracy', cv=cv_outer, n_jobs=-1)\n",
    "\n",
    "# report performance\n",
    "print('Accuracy: %.3f (%.3f)' % (mean(scores), std(scores)))"
   ]
  },
  {
   "cell_type": "code",
   "execution_count": null,
   "id": "095dc4e0-2429-4dc8-8d0b-d660c7e60acb",
   "metadata": {},
   "outputs": [],
   "source": []
  },
  {
   "cell_type": "code",
   "execution_count": null,
   "id": "91cb9291-94e6-4eb2-b14f-3fddfcf534de",
   "metadata": {},
   "outputs": [],
   "source": []
  }
 ],
 "metadata": {
  "kernelspec": {
   "display_name": "Python 3 + Jaspy",
   "language": "python",
   "name": "jaspy"
  },
  "language_info": {
   "codemirror_mode": {
    "name": "ipython",
    "version": 3
   },
   "file_extension": ".py",
   "mimetype": "text/x-python",
   "name": "python",
   "nbconvert_exporter": "python",
   "pygments_lexer": "ipython3",
   "version": "3.11.9"
  }
 },
 "nbformat": 4,
 "nbformat_minor": 5
}
